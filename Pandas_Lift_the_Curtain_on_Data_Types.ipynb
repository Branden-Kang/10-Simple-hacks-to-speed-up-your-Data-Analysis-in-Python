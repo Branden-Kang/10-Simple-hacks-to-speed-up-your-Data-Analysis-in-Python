{
  "nbformat": 4,
  "nbformat_minor": 0,
  "metadata": {
    "colab": {
      "name": "Pandas: Lift the Curtain on Data Types.ipynb",
      "provenance": [],
      "authorship_tag": "ABX9TyNzlySPMYDJuU1V2c+Mkba5"
    },
    "kernelspec": {
      "name": "python3",
      "display_name": "Python 3"
    },
    "language_info": {
      "name": "python"
    }
  },
  "cells": [
    {
      "cell_type": "markdown",
      "source": [
        "[Reference](https://medium.com/@erkansirin/pandas-lift-the-curtain-on-data-types-108ee8fffff7)"
      ],
      "metadata": {
        "id": "Ihv3i_C3jHig"
      }
    },
    {
      "cell_type": "code",
      "execution_count": 2,
      "metadata": {
        "id": "waoCxh_fpxXj"
      },
      "outputs": [],
      "source": [
        "data = {\n",
        "  \"user_id\": [251],\n",
        "  \"first_name\": [\"Murat\"],\n",
        "  \"last_name\": [\"Fedai\"],\n",
        "  \"nick_name\": \"Kara Murat\",\n",
        "  \"summary\": [\"Fatih’in fedaisi.\"],\n",
        "  \"birth_place\": [\"Çorum\"],\n",
        "  \"photo_url\": [\"/photos/7/000/253/05b/308dd6e.jpg\"],\n",
        "  \"served_years_places\": [ [ {\"year\": 1461, \"place\": \"Arnavutluk\"},\n",
        " {\"year\": 1464, \"place\": \"Bosna Hersek\"}]\n",
        "],\n",
        "  \"education\": [ [ {\"school_name\": \"Çorum Sıbyan Mektebi\", \"start\": 1441, \"end\": 1445, \"city\": \"Çorum\"},\n",
        " {\"school_name\": \"Fatih Medresesi\", \"start\": 1455, \"end\": 1457,   \"city\": \"İstanbul\"} \n",
        " ],\n",
        "],\n",
        "  \"contact_info\": [ { \"blog\": \"http://karamuratbenim.com\", \"twitter\": \"http://twitter.com/KaraMurat\" }],\n",
        "  \"horses\": [ '{ \"name\": \"Gelincik\"}']\n",
        "}"
      ]
    },
    {
      "cell_type": "code",
      "source": [
        "import pandas as pd\n",
        "df = pd.DataFrame(data=data)"
      ],
      "metadata": {
        "id": "CWhIjkDCpzww"
      },
      "execution_count": 3,
      "outputs": []
    },
    {
      "cell_type": "code",
      "source": [
        "df.dtypes"
      ],
      "metadata": {
        "colab": {
          "base_uri": "https://localhost:8080/"
        },
        "id": "5QZKOKQvp6pj",
        "outputId": "c01f8cde-ac96-4eb7-c975-a6bc7973414a"
      },
      "execution_count": 4,
      "outputs": [
        {
          "output_type": "execute_result",
          "data": {
            "text/plain": [
              "user_id                 int64\n",
              "first_name             object\n",
              "last_name              object\n",
              "nick_name              object\n",
              "summary                object\n",
              "birth_place            object\n",
              "photo_url              object\n",
              "served_years_places    object\n",
              "education              object\n",
              "contact_info           object\n",
              "horses                 object\n",
              "dtype: object"
            ]
          },
          "metadata": {},
          "execution_count": 4
        }
      ]
    },
    {
      "cell_type": "code",
      "source": [
        "df.info()"
      ],
      "metadata": {
        "colab": {
          "base_uri": "https://localhost:8080/"
        },
        "id": "Fpng0ljjp8CX",
        "outputId": "1872c0e8-ef38-4b69-d82a-9b8bfe770698"
      },
      "execution_count": 5,
      "outputs": [
        {
          "output_type": "stream",
          "name": "stdout",
          "text": [
            "<class 'pandas.core.frame.DataFrame'>\n",
            "RangeIndex: 1 entries, 0 to 0\n",
            "Data columns (total 11 columns):\n",
            " #   Column               Non-Null Count  Dtype \n",
            "---  ------               --------------  ----- \n",
            " 0   user_id              1 non-null      int64 \n",
            " 1   first_name           1 non-null      object\n",
            " 2   last_name            1 non-null      object\n",
            " 3   nick_name            1 non-null      object\n",
            " 4   summary              1 non-null      object\n",
            " 5   birth_place          1 non-null      object\n",
            " 6   photo_url            1 non-null      object\n",
            " 7   served_years_places  1 non-null      object\n",
            " 8   education            1 non-null      object\n",
            " 9   contact_info         1 non-null      object\n",
            " 10  horses               1 non-null      object\n",
            "dtypes: int64(1), object(10)\n",
            "memory usage: 216.0+ bytes\n"
          ]
        }
      ]
    },
    {
      "cell_type": "code",
      "source": [
        "for i in df.columns:\n",
        "    print(df[i].apply(lambda x: type(x)).head(1))"
      ],
      "metadata": {
        "colab": {
          "base_uri": "https://localhost:8080/"
        },
        "id": "Dxt9C2uyp8z_",
        "outputId": "32f358eb-ab1b-4db0-addc-31ea5cae28a1"
      },
      "execution_count": 6,
      "outputs": [
        {
          "output_type": "stream",
          "name": "stdout",
          "text": [
            "0    <class 'int'>\n",
            "Name: user_id, dtype: object\n",
            "0    <class 'str'>\n",
            "Name: first_name, dtype: object\n",
            "0    <class 'str'>\n",
            "Name: last_name, dtype: object\n",
            "0    <class 'str'>\n",
            "Name: nick_name, dtype: object\n",
            "0    <class 'str'>\n",
            "Name: summary, dtype: object\n",
            "0    <class 'str'>\n",
            "Name: birth_place, dtype: object\n",
            "0    <class 'str'>\n",
            "Name: photo_url, dtype: object\n",
            "0    <class 'list'>\n",
            "Name: served_years_places, dtype: object\n",
            "0    <class 'list'>\n",
            "Name: education, dtype: object\n",
            "0    <class 'dict'>\n",
            "Name: contact_info, dtype: object\n",
            "0    <class 'str'>\n",
            "Name: horses, dtype: object\n"
          ]
        }
      ]
    }
  ]
}
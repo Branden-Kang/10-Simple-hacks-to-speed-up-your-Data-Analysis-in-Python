{
  "nbformat": 4,
  "nbformat_minor": 0,
  "metadata": {
    "colab": {
      "name": "Handle Imbalanced Dataset with ease.ipynb",
      "provenance": [],
      "authorship_tag": "ABX9TyOqOSzO8S3+M9YgH2Ueu+aQ"
    },
    "kernelspec": {
      "name": "python3",
      "display_name": "Python 3"
    },
    "language_info": {
      "name": "python"
    }
  },
  "cells": [
    {
      "cell_type": "markdown",
      "source": [
        "# 1. Bagging Classifier\n"
      ],
      "metadata": {
        "id": "KWSAiVJN_zGj"
      }
    },
    {
      "cell_type": "code",
      "source": [
        "from sklearn.datasets import make_classification\n",
        "\n",
        "#create a dataset\n",
        "X, y = make_classification(n_samples=10000, n_features=2, n_informative=2,n_redundant=0, n_repeated=0, n_classes=3, n_clusters_per_class=1,weights=[0.01, 0.05, 0.94], class_sep=0.8, random_state=0)\n",
        "\n",
        "from sklearn.model_selection import train_test_split\n",
        "from sklearn.metrics import balanced_accuracy_score\n",
        "from sklearn.ensemble import BaggingClassifier\n",
        "from sklearn.tree import DecisionTreeClassifier\n",
        "\n",
        "X_train, X_test, y_train, y_test = train_test_split(X, y, random_state=0)\n",
        "bc = BaggingClassifier(base_estimator=DecisionTreeClassifier(), random_state=0)\n",
        "bc.fit(X_train, y_train)\n",
        "y_pred = bc.predict(X_test)\n",
        "\n",
        "print(\"Accuracy\",balanced_accuracy_score(y_test, y_pred))"
      ],
      "metadata": {
        "colab": {
          "base_uri": "https://localhost:8080/"
        },
        "id": "jay8ChPG_zUD",
        "outputId": "62abdeff-28d2-4b25-9a2b-caf5ae535b1e"
      },
      "execution_count": 1,
      "outputs": [
        {
          "output_type": "stream",
          "name": "stdout",
          "text": [
            "Accuracy 0.7739629664028289\n"
          ]
        }
      ]
    },
    {
      "cell_type": "code",
      "execution_count": 8,
      "metadata": {
        "id": "divv4CI6_jQr"
      },
      "outputs": [],
      "source": [
        "from imblearn.ensemble import BalancedBaggingClassifier\n",
        "bbc = BalancedBaggingClassifier(base_estimator=DecisionTreeClassifier(),\n",
        "                                sampling_strategy='auto',\n",
        "                                replacement=False,\n",
        "                                random_state=0)\n",
        "bbc.fit(X_train, y_train)\n",
        "y_pred = bbc.predict(X_test)\n",
        "print(\"Accuracy\",balanced_accuracy_score(y_test, y_pred))"
      ]
    },
    {
      "cell_type": "code",
      "source": [
        "from imblearn.ensemble import BalancedRandomForestClassifier\n",
        "brf = BalancedRandomForestClassifier(n_estimators=100, random_state=0)\n",
        "brf.fit(X_train, y_train)\n",
        "y_pred = brf.predict(X_test)\n",
        "print(\"Accuracy\",balanced_accuracy_score(y_test, y_pred))\n",
        "#Accuracy 0.8"
      ],
      "metadata": {
        "colab": {
          "base_uri": "https://localhost:8080/"
        },
        "id": "gxT_Ftwa_-b8",
        "outputId": "4ffb9ac3-5123-4d0e-83d2-1766de585a42"
      },
      "execution_count": 4,
      "outputs": [
        {
          "output_type": "stream",
          "name": "stdout",
          "text": [
            "Accuracy 0.8102589703105166\n"
          ]
        }
      ]
    },
    {
      "cell_type": "code",
      "source": [
        "from imblearn.over_sampling import SMOTENC\n",
        "cat_indx =[0,1]\n",
        "sm = SMOTENC(categorical_features= cat_indx, random_state=0)\n",
        "X_train_res, y_train_res = sm.fit_resample(X_train, y_train)"
      ],
      "metadata": {
        "id": "qL6qPyVCSIG9"
      },
      "execution_count": 6,
      "outputs": []
    }
  ]
}
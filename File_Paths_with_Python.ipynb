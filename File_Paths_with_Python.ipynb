{
  "nbformat": 4,
  "nbformat_minor": 0,
  "metadata": {
    "colab": {
      "name": "File Paths with Python.ipynb",
      "provenance": [],
      "authorship_tag": "ABX9TyORSThL6jZnGOj3dvpLKHUx"
    },
    "kernelspec": {
      "name": "python3",
      "display_name": "Python 3"
    }
  },
  "cells": [
    {
      "cell_type": "markdown",
      "metadata": {
        "id": "6lgzbVjyc0Nb"
      },
      "source": [
        "[Reference](https://medium.com/python-in-plain-english/manipulating-file-paths-with-python-72a76952b832)"
      ]
    },
    {
      "cell_type": "code",
      "metadata": {
        "id": "jmN95mF0cwBO"
      },
      "source": [
        "from pathlib import Path\n",
        "import os\n",
        "path = Path('foo', 'bar', 'foo.txt')"
      ],
      "execution_count": 5,
      "outputs": []
    },
    {
      "cell_type": "code",
      "metadata": {
        "id": "jV76kP3cdBMW",
        "outputId": "789816b7-ebb8-4ea2-b5ec-b9b28f559981",
        "colab": {
          "base_uri": "https://localhost:8080/",
          "height": 34
        }
      },
      "source": [
        "path"
      ],
      "execution_count": 2,
      "outputs": [
        {
          "output_type": "execute_result",
          "data": {
            "text/plain": [
              "PosixPath('foo/bar/foo.txt')"
            ]
          },
          "metadata": {
            "tags": []
          },
          "execution_count": 2
        }
      ]
    },
    {
      "cell_type": "markdown",
      "metadata": {
        "id": "uVf5B0pedH9E"
      },
      "source": [
        "PosixPath on Linux or macOS and WindowsPath on Windows"
      ]
    },
    {
      "cell_type": "code",
      "metadata": {
        "id": "UFv5XGYwdFaJ",
        "outputId": "5940fdc3-9b1a-4eaf-ba92-bbbb5f04707b",
        "colab": {
          "base_uri": "https://localhost:8080/",
          "height": 34
        }
      },
      "source": [
        "path = Path('foo')/'bar'/'foo.txt'\n",
        "path"
      ],
      "execution_count": 3,
      "outputs": [
        {
          "output_type": "execute_result",
          "data": {
            "text/plain": [
              "PosixPath('foo/bar/foo.txt')"
            ]
          },
          "metadata": {
            "tags": []
          },
          "execution_count": 3
        }
      ]
    },
    {
      "cell_type": "code",
      "metadata": {
        "id": "xaQgwwYidgOR",
        "outputId": "0769dab3-aa88-4ef8-9e39-ad6c5bff926e",
        "colab": {
          "base_uri": "https://localhost:8080/",
          "height": 37
        }
      },
      "source": [
        "path = '/'.join(['foo', 'bar', 'foo.txt'])\n",
        "path"
      ],
      "execution_count": 4,
      "outputs": [
        {
          "output_type": "execute_result",
          "data": {
            "application/vnd.google.colaboratory.intrinsic+json": {
              "type": "string"
            },
            "text/plain": [
              "'foo/bar/foo.txt'"
            ]
          },
          "metadata": {
            "tags": []
          },
          "execution_count": 4
        }
      ]
    },
    {
      "cell_type": "code",
      "metadata": {
        "id": "FDTauCfEdoXv",
        "outputId": "363c5cf9-5018-41a5-c85e-fa1509957f20",
        "colab": {
          "base_uri": "https://localhost:8080/",
          "height": 34
        }
      },
      "source": [
        "print(Path.cwd())"
      ],
      "execution_count": 6,
      "outputs": [
        {
          "output_type": "stream",
          "text": [
            "/content\n"
          ],
          "name": "stdout"
        }
      ]
    },
    {
      "cell_type": "code",
      "metadata": {
        "id": "Yz_3x2oNdxH0"
      },
      "source": [
        "# os.chdir(Path('foo')/'bar')\n",
        "# print(Path.cwd())"
      ],
      "execution_count": 10,
      "outputs": []
    },
    {
      "cell_type": "code",
      "metadata": {
        "id": "a_XT1GRMdzVG",
        "outputId": "cbac26d6-2bb9-405b-9732-8f07a5aa1457",
        "colab": {
          "base_uri": "https://localhost:8080/",
          "height": 34
        }
      },
      "source": [
        "path = Path.home()\n",
        "path"
      ],
      "execution_count": 11,
      "outputs": [
        {
          "output_type": "execute_result",
          "data": {
            "text/plain": [
              "PosixPath('/root')"
            ]
          },
          "metadata": {
            "tags": []
          },
          "execution_count": 11
        }
      ]
    },
    {
      "cell_type": "code",
      "metadata": {
        "id": "iaHER3zmd05i"
      },
      "source": [
        "# Path(Path.cwd()/'foo').mkdir()"
      ],
      "execution_count": 13,
      "outputs": []
    },
    {
      "cell_type": "markdown",
      "metadata": {
        "id": "eC0uEUxKeP60"
      },
      "source": [
        "# Absolute and Relative Paths"
      ]
    },
    {
      "cell_type": "code",
      "metadata": {
        "id": "R-4Y9yzsd_IA"
      },
      "source": [
        "is_absolute = Path.cwd().is_absolute()"
      ],
      "execution_count": 15,
      "outputs": []
    },
    {
      "cell_type": "code",
      "metadata": {
        "id": "75krl9lYeOkx",
        "outputId": "ad057275-191f-4c04-b2ce-49fc79ee3d0e",
        "colab": {
          "base_uri": "https://localhost:8080/",
          "height": 34
        }
      },
      "source": [
        "is_absolute"
      ],
      "execution_count": 16,
      "outputs": [
        {
          "output_type": "execute_result",
          "data": {
            "text/plain": [
              "True"
            ]
          },
          "metadata": {
            "tags": []
          },
          "execution_count": 16
        }
      ]
    },
    {
      "cell_type": "code",
      "metadata": {
        "id": "5VsTcZy3eRQv"
      },
      "source": [
        "path = os.path.abspath(Path('./foo'))"
      ],
      "execution_count": 17,
      "outputs": []
    },
    {
      "cell_type": "code",
      "metadata": {
        "id": "924TsQileT83",
        "outputId": "b283eed6-93f7-4a6e-8810-cbb39776d5e9",
        "colab": {
          "base_uri": "https://localhost:8080/",
          "height": 37
        }
      },
      "source": [
        "path"
      ],
      "execution_count": 18,
      "outputs": [
        {
          "output_type": "execute_result",
          "data": {
            "application/vnd.google.colaboratory.intrinsic+json": {
              "type": "string"
            },
            "text/plain": [
              "'/content/foo'"
            ]
          },
          "metadata": {
            "tags": []
          },
          "execution_count": 18
        }
      ]
    },
    {
      "cell_type": "code",
      "metadata": {
        "id": "DdxQoOLueU6c",
        "outputId": "c939ba1b-2dd2-4213-c4f2-64e0a34e9322",
        "colab": {
          "base_uri": "https://localhost:8080/",
          "height": 37
        }
      },
      "source": [
        "path = os.path.relpath(Path.home(), Path('./foo')/'bar')\n",
        "path"
      ],
      "execution_count": 19,
      "outputs": [
        {
          "output_type": "execute_result",
          "data": {
            "application/vnd.google.colaboratory.intrinsic+json": {
              "type": "string"
            },
            "text/plain": [
              "'../../../root'"
            ]
          },
          "metadata": {
            "tags": []
          },
          "execution_count": 19
        }
      ]
    }
  ]
}
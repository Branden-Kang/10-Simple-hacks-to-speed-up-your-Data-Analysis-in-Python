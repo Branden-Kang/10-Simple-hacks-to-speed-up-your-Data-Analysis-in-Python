{
  "nbformat": 4,
  "nbformat_minor": 0,
  "metadata": {
    "colab": {
      "name": "Do not use mutable objects as default arguments in Python.ipynb",
      "provenance": [],
      "authorship_tag": "ABX9TyO3hOtQM0y3cEz6VgF6d8qh"
    },
    "kernelspec": {
      "name": "python3",
      "display_name": "Python 3"
    },
    "language_info": {
      "name": "python"
    }
  },
  "cells": [
    {
      "cell_type": "markdown",
      "metadata": {
        "id": "LzloBDqZRd9U"
      },
      "source": [
        "[Reference](https://medium.com/geekculture/do-not-use-objects-as-default-arguments-in-python-1c940212db2e)"
      ]
    },
    {
      "cell_type": "code",
      "metadata": {
        "id": "0JtOHtmQRVWb"
      },
      "source": [
        "def append_10(the_list=[]):\n",
        "  the_list.append(10)\n",
        "  return the_list"
      ],
      "execution_count": 1,
      "outputs": []
    },
    {
      "cell_type": "code",
      "metadata": {
        "colab": {
          "base_uri": "https://localhost:8080/"
        },
        "id": "5pBeca1dRhM1",
        "outputId": "85e248fe-b780-4e69-d240-d5b9f554d326"
      },
      "source": [
        "my_list = [5]\n",
        "print(append_10(my_list))"
      ],
      "execution_count": 2,
      "outputs": [
        {
          "output_type": "stream",
          "text": [
            "[5, 10]\n"
          ],
          "name": "stdout"
        }
      ]
    },
    {
      "cell_type": "code",
      "metadata": {
        "colab": {
          "base_uri": "https://localhost:8080/"
        },
        "id": "yhEFZ3_uRlpZ",
        "outputId": "47084087-4c80-4889-ce94-e28df4aa64d1"
      },
      "source": [
        "print(append_10())"
      ],
      "execution_count": 3,
      "outputs": [
        {
          "output_type": "stream",
          "text": [
            "[10]\n"
          ],
          "name": "stdout"
        }
      ]
    },
    {
      "cell_type": "code",
      "metadata": {
        "id": "td3QL6v-Rmq6"
      },
      "source": [
        "def append_10(the_list=None):\n",
        "  if the_list is None:\n",
        "    the_list = []\n",
        "  the_list.append(10)\n",
        "  return the_list"
      ],
      "execution_count": 4,
      "outputs": []
    },
    {
      "cell_type": "code",
      "metadata": {
        "colab": {
          "base_uri": "https://localhost:8080/"
        },
        "id": "2hb2VlKrRua0",
        "outputId": "89860a67-dbdd-4150-b38c-ee8718e6267d"
      },
      "source": [
        "a = [10,20,30]\n",
        "b = a\n",
        "b[1] = 25\n",
        "print(a)"
      ],
      "execution_count": 5,
      "outputs": [
        {
          "output_type": "stream",
          "text": [
            "[10, 25, 30]\n"
          ],
          "name": "stdout"
        }
      ]
    }
  ]
}
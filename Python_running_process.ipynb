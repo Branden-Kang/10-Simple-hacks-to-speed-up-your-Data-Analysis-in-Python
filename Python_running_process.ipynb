{
  "nbformat": 4,
  "nbformat_minor": 0,
  "metadata": {
    "colab": {
      "name": "Python running process.ipynb",
      "provenance": [],
      "authorship_tag": "ABX9TyMIXVxF/pfvXR/jQktyqBcP"
    },
    "kernelspec": {
      "name": "python3",
      "display_name": "Python 3"
    }
  },
  "cells": [
    {
      "cell_type": "code",
      "metadata": {
        "colab": {
          "base_uri": "https://localhost:8080/"
        },
        "id": "P3R4PCkMNSs-",
        "outputId": "a9250e4b-b210-4e6e-848d-1d7398fc857c"
      },
      "source": [
        "import time\n",
        "\n",
        "start_time = time.time()\n",
        "for i in range(10**7):\n",
        "    x = i % 5\n",
        "finish_time = time.time()\n",
        "\n",
        "print(\"Duration: {} msec\".format((finish_time-start_time)*1000))"
      ],
      "execution_count": 1,
      "outputs": [
        {
          "output_type": "stream",
          "text": [
            "Duration: 849.1990566253662 msec\n"
          ],
          "name": "stdout"
        }
      ]
    },
    {
      "cell_type": "code",
      "metadata": {
        "colab": {
          "base_uri": "https://localhost:8080/"
        },
        "id": "H_pCdAC1NYem",
        "outputId": "d2e31d0a-b990-444f-9f65-469c6cbd31b8"
      },
      "source": [
        "import time\n",
        "\n",
        "def main():\n",
        "    for i in range(10**7):\n",
        "        x = i % 5\n",
        "\n",
        "start_time = time.time()\n",
        "main()\n",
        "finish_time = time.time()\n",
        "\n",
        "print(\"Duration: {} msec\".format((finish_time-start_time)*1000))"
      ],
      "execution_count": 2,
      "outputs": [
        {
          "output_type": "stream",
          "text": [
            "Duration: 460.6778621673584 msec\n"
          ],
          "name": "stdout"
        }
      ]
    },
    {
      "cell_type": "markdown",
      "metadata": {
        "id": "j5DBwEOKNqDb"
      },
      "source": [
        "![python_source_code](https://miro.medium.com/max/1400/1*XPT73Xf_B0iMBh6hZQVC0Q.png)"
      ]
    },
    {
      "cell_type": "markdown",
      "metadata": {
        "id": "OBDyAgNYNwbq"
      },
      "source": [
        "Lexing means that \"x=1\" is broken into token such as \"x\", \"=\", and \"1\". After lexing, the tokens are organized into an abstract syntax tree (AST) called Parsing. After that, \"complier\" converts everything to an abstract code called \"Bytecode\"\n",
        "\n",
        "Unlike other languages such as C, C++, Java, Python does not take the source code and convert it to the machine code. It converts it to a \"Bytecode\"\n",
        "\n",
        "It is the Interpreter’s task to take the bytecode and run it in the way that the machine understands it.\n",
        "\n",
        "Bytecodes are stored (cached) as .pyc files on your disk.\n",
        "\n",
        "Among the four steps of running a code in Python, the interpreter has the heaviest job to do, and the other three steps are not handling too much of the load. \n",
        "\n",
        "To take a look at the bytecode instructions, we can use the dis package. dis is a Python package to disassemble and decode bytecodes and display them in a way that human can understand it. The output of thedis.dis() has a structure like this."
      ]
    },
    {
      "cell_type": "markdown",
      "metadata": {
        "id": "_6p5I08EPzZU"
      },
      "source": [
        "![dis.dis](https://miro.medium.com/max/1400/1*zLWJ_GxCbnfF0AHhprnyvw.png)"
      ]
    },
    {
      "cell_type": "markdown",
      "metadata": {
        "id": "zqqGkyu-QAC1"
      },
      "source": [
        "![comparison](https://miro.medium.com/max/1400/1*kFNXJUrSQ9S_UwbZQJ_LDA.png)"
      ]
    },
    {
      "cell_type": "code",
      "metadata": {
        "colab": {
          "base_uri": "https://localhost:8080/"
        },
        "id": "jPLNkb0rNaP-",
        "outputId": "18455f33-5ba0-4e95-ff40-bf4686390796"
      },
      "source": [
        "def main():\n",
        "    global i, x\n",
        "    for i in range(10**7):\n",
        "        x = i % 5\n",
        "main()\n",
        "\n",
        "start_time = time.time()\n",
        "main()\n",
        "finish_time = time.time()\n",
        "\n",
        "print(\"Duration: {} msec\".format((finish_time-start_time)*1000))"
      ],
      "execution_count": 4,
      "outputs": [
        {
          "output_type": "stream",
          "text": [
            "Duration: 798.6078262329102 msec\n"
          ],
          "name": "stdout"
        }
      ]
    }
  ]
}